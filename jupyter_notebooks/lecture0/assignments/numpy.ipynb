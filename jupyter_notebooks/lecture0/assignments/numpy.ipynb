{
 "cells": [
  {
   "cell_type": "markdown",
   "metadata": {},
   "source": [
    "# Numpy\n",
    "- based on https://github.com/mephistopheies/mlworkshop39_042017/blob/master/0_python_intro/%D0%A3%D0%BF%D1%80%D0%B0%D0%B6%D0%BD%D0%B5%D0%BD%D0%B8%D1%8F.ipynb\n",
    "\n",
    "<img src=\"trainings1.jpg\" />"
   ]
  },
  {
   "cell_type": "markdown",
   "metadata": {},
   "source": [
    "## Task 0\n",
    "- import numpy"
   ]
  },
  {
   "cell_type": "code",
   "execution_count": 4,
   "metadata": {},
   "outputs": [],
   "source": [
    "import numpy as np"
   ]
  },
  {
   "cell_type": "markdown",
   "metadata": {},
   "source": [
    "## Task 1\n",
    "- print version of numpy"
   ]
  },
  {
   "cell_type": "code",
   "execution_count": 2,
   "metadata": {},
   "outputs": [
    {
     "data": {
      "text/plain": [
       "'1.18.1'"
      ]
     },
     "execution_count": 2,
     "metadata": {},
     "output_type": "execute_result"
    }
   ],
   "source": [
    "np.__version__"
   ]
  },
  {
   "cell_type": "markdown",
   "metadata": {},
   "source": [
    "## Task 2\n",
    "- create 1d vector of zeros of size 10"
   ]
  },
  {
   "cell_type": "code",
   "execution_count": 7,
   "metadata": {},
   "outputs": [],
   "source": [
    "v1=np.zeros((1,10))"
   ]
  },
  {
   "cell_type": "code",
   "execution_count": 8,
   "metadata": {},
   "outputs": [
    {
     "data": {
      "text/plain": [
       "array([[0., 0., 0., 0., 0., 0., 0., 0., 0., 0.]])"
      ]
     },
     "execution_count": 8,
     "metadata": {},
     "output_type": "execute_result"
    }
   ],
   "source": [
    "v1"
   ]
  },
  {
   "cell_type": "markdown",
   "metadata": {},
   "source": [
    "## Task 3\n",
    "- create 1d vector filled with ones of size 10"
   ]
  },
  {
   "cell_type": "code",
   "execution_count": 46,
   "metadata": {},
   "outputs": [
    {
     "data": {
      "text/plain": [
       "array([[1.],\n",
       "       [1.],\n",
       "       [1.],\n",
       "       [1.],\n",
       "       [1.],\n",
       "       [1.],\n",
       "       [1.],\n",
       "       [1.],\n",
       "       [1.],\n",
       "       [1.]])"
      ]
     },
     "execution_count": 46,
     "metadata": {},
     "output_type": "execute_result"
    }
   ],
   "source": [
    "v2=np.ones((10,1))\n",
    "v2"
   ]
  },
  {
   "cell_type": "markdown",
   "metadata": {},
   "source": [
    "## Task 4\n",
    "- create 1d vector filled with ones of size 10,"
   ]
  },
  {
   "cell_type": "code",
   "execution_count": 18,
   "metadata": {},
   "outputs": [
    {
     "data": {
      "text/plain": [
       "array([1., 1., 1., 1., 1., 1., 1., 1., 1., 1.])"
      ]
     },
     "execution_count": 18,
     "metadata": {},
     "output_type": "execute_result"
    }
   ],
   "source": [
    "v3=np.ones((10,))\n",
    "v3"
   ]
  },
  {
   "cell_type": "markdown",
   "metadata": {},
   "source": [
    "## Task 5\n",
    "- crete 1d vector filled with numbers from 10 to 49"
   ]
  },
  {
   "cell_type": "code",
   "execution_count": 23,
   "metadata": {},
   "outputs": [
    {
     "data": {
      "text/plain": [
       "array([10, 11, 12, 13, 14, 15, 16, 17, 18, 19, 20, 21, 22, 23, 24, 25, 26,\n",
       "       27, 28, 29, 30, 31, 32, 33, 34, 35, 36, 37, 38, 39, 40, 41, 42, 43,\n",
       "       44, 45, 46, 47, 48, 49])"
      ]
     },
     "execution_count": 23,
     "metadata": {},
     "output_type": "execute_result"
    }
   ],
   "source": [
    "v4=np.arange(10,50,1)\n",
    "v4"
   ]
  },
  {
   "cell_type": "markdown",
   "metadata": {},
   "source": [
    "## Task 6\n",
    "- create any 1d vector, then reverce it, such that last element will be on the first position"
   ]
  },
  {
   "cell_type": "code",
   "execution_count": 48,
   "metadata": {},
   "outputs": [
    {
     "data": {
      "text/plain": [
       "array([49, 48, 47, 46, 45, 44, 43, 42, 41, 40, 39, 38, 37, 36, 35, 34, 33,\n",
       "       32, 31, 30, 29, 28, 27, 26, 25, 24, 23, 22, 21, 20, 19, 18, 17, 16,\n",
       "       15, 14, 13, 12, 11, 10])"
      ]
     },
     "execution_count": 48,
     "metadata": {},
     "output_type": "execute_result"
    }
   ],
   "source": [
    "#np.flip(v4)\n",
    "v4[::-1]"
   ]
  },
  {
   "cell_type": "markdown",
   "metadata": {},
   "source": [
    "## Task 7\n",
    "- create 2d 3x3 array / matrix, filled with numbers from 0 to 8"
   ]
  },
  {
   "cell_type": "code",
   "execution_count": 39,
   "metadata": {},
   "outputs": [
    {
     "data": {
      "text/plain": [
       "array([[0, 1, 2],\n",
       "       [3, 4, 5],\n",
       "       [6, 7, 8]])"
      ]
     },
     "execution_count": 39,
     "metadata": {},
     "output_type": "execute_result"
    }
   ],
   "source": [
    "v5=np.arange(9).reshape(3,3)\n",
    "v5"
   ]
  },
  {
   "cell_type": "markdown",
   "metadata": {},
   "source": [
    "## Task 8\n",
    "- create 3x3 matrix filled with ones"
   ]
  },
  {
   "cell_type": "code",
   "execution_count": 41,
   "metadata": {},
   "outputs": [
    {
     "data": {
      "text/plain": [
       "array([[1., 1., 1.],\n",
       "       [1., 1., 1.],\n",
       "       [1., 1., 1.]])"
      ]
     },
     "execution_count": 41,
     "metadata": {},
     "output_type": "execute_result"
    }
   ],
   "source": [
    "v6=np.ones((3,3))\n",
    "v6"
   ]
  },
  {
   "cell_type": "markdown",
   "metadata": {},
   "source": [
    "## Task 9\n",
    "- create 3x3 matrix filled with random numbers"
   ]
  },
  {
   "cell_type": "code",
   "execution_count": 60,
   "metadata": {},
   "outputs": [
    {
     "data": {
      "text/plain": [
       "array([[0.01122508, 0.52732741, 0.15476722],\n",
       "       [0.90292571, 0.26606597, 0.73531678],\n",
       "       [0.60259039, 0.47979998, 0.78440305]])"
      ]
     },
     "execution_count": 60,
     "metadata": {},
     "output_type": "execute_result"
    }
   ],
   "source": [
    "v7=np.random.rand(3,3)\n",
    "v7"
   ]
  },
  {
   "cell_type": "markdown",
   "metadata": {},
   "source": [
    "## Task 10\n",
    "- create 3x3x3 array filled with random numbers"
   ]
  },
  {
   "cell_type": "code",
   "execution_count": 8,
   "metadata": {},
   "outputs": [
    {
     "data": {
      "text/plain": [
       "array([[[32, 46, 47],\n",
       "        [12, 27, 37],\n",
       "        [47, 32, 27]],\n",
       "\n",
       "       [[18, 43, 24],\n",
       "        [21, 29, 42],\n",
       "        [41, 36, 17]],\n",
       "\n",
       "       [[12, 43, 45],\n",
       "        [27, 27, 22],\n",
       "        [32, 35, 39]]])"
      ]
     },
     "execution_count": 8,
     "metadata": {},
     "output_type": "execute_result"
    }
   ],
   "source": [
    "v8=np.random.randint(10,50,size=(3,3,3))\n",
    "v8"
   ]
  },
  {
   "cell_type": "markdown",
   "metadata": {},
   "source": [
    "## Task 11\n",
    "- create 10x10 matrix filled with random numbers and find minimal and maximal elements"
   ]
  },
  {
   "cell_type": "code",
   "execution_count": 14,
   "metadata": {},
   "outputs": [
    {
     "data": {
      "text/plain": [
       "(5, 985)"
      ]
     },
     "execution_count": 14,
     "metadata": {},
     "output_type": "execute_result"
    }
   ],
   "source": [
    "v9=np.random.randint(1,1000,size=(10,10))\n",
    "v9\n",
    "v9.min(), v9.max()"
   ]
  },
  {
   "cell_type": "markdown",
   "metadata": {},
   "source": [
    "## Task 12\n",
    "- create a random 1d vector of size 30 and find average of them"
   ]
  },
  {
   "cell_type": "code",
   "execution_count": 22,
   "metadata": {},
   "outputs": [
    {
     "data": {
      "text/plain": [
       "73.3"
      ]
     },
     "execution_count": 22,
     "metadata": {},
     "output_type": "execute_result"
    }
   ],
   "source": [
    "v10 = np.random.randint(50,100, size=(30,1))\n",
    "v10\n",
    "v10.mean()"
   ]
  },
  {
   "cell_type": "markdown",
   "metadata": {},
   "source": [
    "## Task 13\n",
    "- create 5x5 matrix, which has ones on a \"frame\" and zeros inside"
   ]
  },
  {
   "cell_type": "code",
   "execution_count": 43,
   "metadata": {},
   "outputs": [
    {
     "data": {
      "text/plain": [
       "array([[1., 1., 1., 1., 1.],\n",
       "       [1., 0., 0., 0., 1.],\n",
       "       [1., 0., 0., 0., 1.],\n",
       "       [1., 0., 0., 0., 1.],\n",
       "       [1., 1., 1., 1., 1.]])"
      ]
     },
     "execution_count": 43,
     "metadata": {},
     "output_type": "execute_result"
    }
   ],
   "source": [
    "v11=np.zeros(25).reshape(5,5)\n",
    "v11[0,:]=1\n",
    "v11[4,:]=1\n",
    "v11[:,0]=1\n",
    "v11[:,4]=1\n",
    "v11"
   ]
  },
  {
   "cell_type": "markdown",
   "metadata": {},
   "source": [
    "## Task 14\n",
    "- create 8x8 matrix\n",
    "- fill it with ones and zeros in a \"chess\" order\n",
    "- **don't use** `tile` funtion"
   ]
  },
  {
   "cell_type": "code",
   "execution_count": 45,
   "metadata": {},
   "outputs": [
    {
     "data": {
      "text/plain": [
       "array([[1., 0., 1., 0., 1., 0., 1., 0.],\n",
       "       [0., 1., 0., 1., 0., 1., 0., 1.],\n",
       "       [1., 0., 1., 0., 1., 0., 1., 0.],\n",
       "       [0., 1., 0., 1., 0., 1., 0., 1.],\n",
       "       [1., 0., 1., 0., 1., 0., 1., 0.],\n",
       "       [0., 1., 0., 1., 0., 1., 0., 1.],\n",
       "       [1., 0., 1., 0., 1., 0., 1., 0.],\n",
       "       [0., 1., 0., 1., 0., 1., 0., 1.]])"
      ]
     },
     "execution_count": 45,
     "metadata": {},
     "output_type": "execute_result"
    }
   ],
   "source": [
    "v12=np.zeros(64).reshape(8,8)\n",
    "for row in range(8):\n",
    "    for col in range(8):\n",
    "        if(row+col) % 2 == 0:\n",
    "            v12[row,col]=1\n",
    "v12"
   ]
  },
  {
   "cell_type": "markdown",
   "metadata": {},
   "source": [
    "## Task 15\n",
    "- create 8x8 matrix\n",
    "- fill it with ones and zeros in a \"chess\" order\n",
    "- **use** `tile` funtion"
   ]
  },
  {
   "cell_type": "code",
   "execution_count": 127,
   "metadata": {},
   "outputs": [
    {
     "data": {
      "text/plain": [
       "array([[0., 0., 0., 0., 0.],\n",
       "       [0., 0., 0., 0., 0.],\n",
       "       [0., 0., 0., 0., 0.],\n",
       "       [0., 0., 0., 0., 0.],\n",
       "       [0., 0., 0., 0., 0.]])"
      ]
     },
     "execution_count": 127,
     "metadata": {},
     "output_type": "execute_result"
    }
   ],
   "source": [
    "a=np.zeros(25).reshape(5,5)\n",
    "a"
   ]
  },
  {
   "cell_type": "code",
   "execution_count": 136,
   "metadata": {},
   "outputs": [
    {
     "data": {
      "text/plain": [
       "array([[1., 1., 1., 1., 1.],\n",
       "       [1., 1., 1., 1., 0.],\n",
       "       [1., 1., 1., 1., 1.],\n",
       "       [1., 1., 1., 1., 0.],\n",
       "       [1., 1., 1., 1., 1.]])"
      ]
     },
     "execution_count": 136,
     "metadata": {},
     "output_type": "execute_result"
    }
   ],
   "source": [
    "#a[0:2:1, 0:2:1]\n",
    "a[::2, ::1] = 1\n",
    "a\n",
    "#b=np.zeros(64).reshape(8,8)\n",
    "#b[::2,::2]=1\n",
    "#b[1::2, 1::2]=1\n",
    "#b"
   ]
  },
  {
   "cell_type": "code",
   "execution_count": 123,
   "metadata": {},
   "outputs": [
    {
     "data": {
      "text/plain": [
       "array([[ 1,  2,  3,  4],\n",
       "       [ 6,  7,  8,  9],\n",
       "       [11, 12, 13, 14],\n",
       "       [16, 17, 18, 19]])"
      ]
     },
     "execution_count": 123,
     "metadata": {},
     "output_type": "execute_result"
    }
   ],
   "source": [
    "a[0:4:1, 0:4:1]"
   ]
  },
  {
   "cell_type": "markdown",
   "metadata": {},
   "source": [
    "## Task 16\n",
    "- create two random matrices 5x3 and 3x2\n",
    "- multiply them"
   ]
  },
  {
   "cell_type": "code",
   "execution_count": 150,
   "metadata": {},
   "outputs": [
    {
     "data": {
      "text/plain": [
       "array([[ 62, 119],\n",
       "       [ 47, 130],\n",
       "       [ 21,  76],\n",
       "       [ 37,  71],\n",
       "       [ 47,  94]])"
      ]
     },
     "execution_count": 150,
     "metadata": {},
     "output_type": "execute_result"
    }
   ],
   "source": [
    "m1=np.random.randint(1,15, size=(5,3))\n",
    "m2=np.random.randint(1,6, size=(3,2))\n",
    "m1, m2\n",
    "m1.dot(m2)"
   ]
  },
  {
   "cell_type": "markdown",
   "metadata": {},
   "source": [
    "## Task 17\n",
    "- create array of size 100 filled with random numbers from 0 to 10\n",
    "- chenge sign of all numbers which are in a range between 3 and 8"
   ]
  },
  {
   "cell_type": "code",
   "execution_count": 169,
   "metadata": {},
   "outputs": [
    {
     "data": {
      "text/plain": [
       "array([4, 5, 7, 6, 8, 6, 8, 5, 8, 7, 7, 6, 7, 6, 7, 8, 3, 5, 8, 4, 8, 3,\n",
       "       4, 7, 6, 5, 6, 6, 8, 6, 3, 7, 4, 5, 4, 6, 4, 5, 5, 8, 6, 3, 7, 5,\n",
       "       4, 6, 6, 3, 8, 6, 4, 5, 3, 6, 8, 5, 3, 8, 8, 3, 5, 4, 5])"
      ]
     },
     "execution_count": 169,
     "metadata": {},
     "output_type": "execute_result"
    }
   ],
   "source": [
    "a1=np.random.randint(1,10, size=(100,1))\n",
    "a1[(a1<=8) & (a1>=3)]"
   ]
  },
  {
   "cell_type": "markdown",
   "metadata": {},
   "source": [
    "## Task 18\n",
    "- create a matrix 5x5 such that each row would be a 1d array filled with numbers from 0 to 4"
   ]
  },
  {
   "cell_type": "code",
   "execution_count": 213,
   "metadata": {},
   "outputs": [
    {
     "data": {
      "text/plain": [
       "array([[0, 1, 2, 3, 4],\n",
       "       [0, 1, 2, 3, 4],\n",
       "       [0, 1, 2, 3, 4],\n",
       "       [0, 1, 2, 3, 4],\n",
       "       [0, 1, 2, 3, 4]])"
      ]
     },
     "execution_count": 213,
     "metadata": {},
     "output_type": "execute_result"
    }
   ],
   "source": [
    "v=np.arange(0,5).reshape(1,5)\n",
    "m18=np.repeat(v, repeats = 5, axis = 0)\n",
    "m18"
   ]
  },
  {
   "cell_type": "markdown",
   "metadata": {},
   "source": [
    "## Task 19\n",
    "- create 1d vector of size 100 filled with random values from range 0-1, excluding boundary values (no exact 0/1)"
   ]
  },
  {
   "cell_type": "code",
   "execution_count": 220,
   "metadata": {},
   "outputs": [
    {
     "data": {
      "text/plain": [
       "array([[0.4378998 ],\n",
       "       [0.8212857 ],\n",
       "       [0.27038901],\n",
       "       [0.73432201],\n",
       "       [0.91955986],\n",
       "       [0.58905894],\n",
       "       [0.21634412],\n",
       "       [0.29527126],\n",
       "       [0.48230092],\n",
       "       [0.74686595],\n",
       "       [0.66919568],\n",
       "       [0.38794325],\n",
       "       [0.01485281],\n",
       "       [0.64105301],\n",
       "       [0.72665599],\n",
       "       [0.51054366],\n",
       "       [0.55590221],\n",
       "       [0.57914137],\n",
       "       [0.37878354],\n",
       "       [0.14347928],\n",
       "       [0.82380605],\n",
       "       [0.3688431 ],\n",
       "       [0.6008049 ],\n",
       "       [0.15854564],\n",
       "       [0.92881647],\n",
       "       [0.93150804],\n",
       "       [0.37036928],\n",
       "       [0.15337397],\n",
       "       [0.27176684],\n",
       "       [0.12817278],\n",
       "       [0.23965201],\n",
       "       [0.82981889],\n",
       "       [0.08387281],\n",
       "       [0.9078899 ],\n",
       "       [0.00503579],\n",
       "       [0.07103207],\n",
       "       [0.90640604],\n",
       "       [0.2768613 ],\n",
       "       [0.40780423],\n",
       "       [0.15154948],\n",
       "       [0.08543673],\n",
       "       [0.32650657],\n",
       "       [0.39104169],\n",
       "       [0.46438115],\n",
       "       [0.21006695],\n",
       "       [0.14006963],\n",
       "       [0.23232674],\n",
       "       [0.40099341],\n",
       "       [0.09662842],\n",
       "       [0.4602005 ],\n",
       "       [0.75479108],\n",
       "       [0.05649131],\n",
       "       [0.5969273 ],\n",
       "       [0.21191429],\n",
       "       [0.14840663],\n",
       "       [0.4530887 ],\n",
       "       [0.39464658],\n",
       "       [0.26432229],\n",
       "       [0.77137096],\n",
       "       [0.30081768],\n",
       "       [0.65236638],\n",
       "       [0.47082961],\n",
       "       [0.43982528],\n",
       "       [0.98656073],\n",
       "       [0.96515468],\n",
       "       [0.64253339],\n",
       "       [0.01052575],\n",
       "       [0.70022258],\n",
       "       [0.03868167],\n",
       "       [0.60620031],\n",
       "       [0.2720354 ],\n",
       "       [0.98898921],\n",
       "       [0.94937415],\n",
       "       [0.43897463],\n",
       "       [0.22717034],\n",
       "       [0.30887459],\n",
       "       [0.9909321 ],\n",
       "       [0.30511422],\n",
       "       [0.64949413],\n",
       "       [0.95536878],\n",
       "       [0.68229991],\n",
       "       [0.32954801],\n",
       "       [0.67400447],\n",
       "       [0.91355779],\n",
       "       [0.83610813],\n",
       "       [0.23747999],\n",
       "       [0.26064085],\n",
       "       [0.75855473],\n",
       "       [0.54775044],\n",
       "       [0.86687755],\n",
       "       [0.1731467 ],\n",
       "       [0.42459912],\n",
       "       [0.96723493],\n",
       "       [0.94770854],\n",
       "       [0.19075056],\n",
       "       [0.32955907],\n",
       "       [0.81475958],\n",
       "       [0.20369067],\n",
       "       [0.94887263],\n",
       "       [0.02095263]])"
      ]
     },
     "execution_count": 220,
     "metadata": {},
     "output_type": "execute_result"
    }
   ],
   "source": [
    "v19=np.random.uniform(0,1,size=(100,1))\n",
    "v19"
   ]
  },
  {
   "cell_type": "markdown",
   "metadata": {},
   "source": [
    "## Task 20\n",
    "- create a 10x2 random matrix filled with number from range 0-100\n",
    "- consider it as points in Cartesian plain\n",
    "- convert to polar system of coordinates"
   ]
  },
  {
   "cell_type": "code",
   "execution_count": 260,
   "metadata": {},
   "outputs": [
    {
     "name": "stdout",
     "output_type": "stream",
     "text": [
      "[[ 5 79]\n",
      " [ 6 71]\n",
      " [80 70]\n",
      " [88 48]\n",
      " [12 28]\n",
      " [73 58]\n",
      " [82 60]\n",
      " [15 63]\n",
      " [43 29]\n",
      " [82 19]]\n",
      "[ 79.15806971  71.25307011 106.30145813 100.23971269  30.46309242\n",
      "  93.23625904 101.60708637  64.76109943  51.86520992  84.17244205]\n",
      "[86.3785153  85.16958004 41.18592517 28.61045967 66.80140949 38.46786331\n",
      " 36.19320731 76.60750225 33.99645915 13.04563706]\n"
     ]
    }
   ],
   "source": [
    "m20=np.random.randint(0,100,size=(10,2))\n",
    "x,y=m20[:,0],m20[:,1]\n",
    "r = np.sqrt(x**2 + y**2)\n",
    "t =  np.degrees(np.arctan2(y,x))\n",
    "print(m20)\n",
    "print(r)\n",
    "print(t)"
   ]
  },
  {
   "cell_type": "markdown",
   "metadata": {},
   "source": [
    "## Task 21\n",
    "- create random 13x13 matrix, replace maximal element to zero"
   ]
  },
  {
   "cell_type": "code",
   "execution_count": 381,
   "metadata": {},
   "outputs": [
    {
     "name": "stdout",
     "output_type": "stream",
     "text": [
      "[[20 22 47 40 47 18 10 26 18 35 38  1 34]\n",
      " [34 18  2 48 18 39 37 33 11 20 12 48 24]\n",
      " [10 49 37 14 37 17 42 16 45 31 33  3 22]\n",
      " [ 3 28 12 40 46 37 26 39 16 42 21  9 43]\n",
      " [13 29 23  6  3 45 23  8 24 47 49  2 23]\n",
      " [28 30 43 38 27  5  9 11 43 32 45 10 11]\n",
      " [ 7  4  1 21 48 39 15 10 30 21 47 11  7]\n",
      " [ 4  5 19  7  2 42 35 18 35 25 15 20 42]\n",
      " [29 12 12 45 28 22  2 38 38 21 38 26 39]\n",
      " [14 21 45 38 23  7 29 17 21 17 36 34  9]\n",
      " [15 44 10 32 10 11 46  6 47 34 13  2 32]\n",
      " [10 22  8 30 36 11 38 33 32 30 46 33 36]\n",
      " [49 30 10 41 48 24  2  3  9 46 21 49 10]]\n",
      "--------------------------------------------------\n",
      "[[20 22 47 40 47 18 10 26 18 35 38  1 34]\n",
      " [34 18  2 48 18 39 37 33 11 20 12 48 24]\n",
      " [10  0 37 14 37 17 42 16 45 31 33  3 22]\n",
      " [ 3 28 12 40 46 37 26 39 16 42 21  9 43]\n",
      " [13 29 23  6  3 45 23  8 24 47  0  2 23]\n",
      " [28 30 43 38 27  5  9 11 43 32 45 10 11]\n",
      " [ 7  4  1 21 48 39 15 10 30 21 47 11  7]\n",
      " [ 4  5 19  7  2 42 35 18 35 25 15 20 42]\n",
      " [29 12 12 45 28 22  2 38 38 21 38 26 39]\n",
      " [14 21 45 38 23  7 29 17 21 17 36 34  9]\n",
      " [15 44 10 32 10 11 46  6 47 34 13  2 32]\n",
      " [10 22  8 30 36 11 38 33 32 30 46 33 36]\n",
      " [ 0 30 10 41 48 24  2  3  9 46 21  0 10]]\n"
     ]
    }
   ],
   "source": [
    "m21=np.random.randint(1,50, size=(13,13))\n",
    "print(m21)\n",
    "print('-'*50)\n",
    "m_ind=np.where(m21 == np.amax(m21))\n",
    "#print(m_ind)\n",
    "r=m_ind[0]\n",
    "c=m_ind[1]\n",
    "for j in range(len(c)):\n",
    "    m21[m_ind[0][j]][m_ind[1][j]]=0\n",
    "print(m21)"
   ]
  },
  {
   "cell_type": "markdown",
   "metadata": {},
   "source": [
    "## Task 22\n",
    "- create two 1d arrays with random values\n",
    "- make a Cauchy matrix from them $C (C_{ij} = \\frac{1}{x_i - y_j})$"
   ]
  },
  {
   "cell_type": "code",
   "execution_count": 404,
   "metadata": {},
   "outputs": [
    {
     "name": "stdout",
     "output_type": "stream",
     "text": [
      "[1 2 3 4] [5 6 7]\n",
      "[[1]\n",
      " [2]\n",
      " [3]\n",
      " [4]] [5 6 7]\n",
      "[[-4 -5 -6]\n",
      " [-3 -4 -5]\n",
      " [-2 -3 -4]\n",
      " [-1 -2 -3]]\n",
      "[[-0.25       -0.2        -0.16666667]\n",
      " [-0.33333333 -0.25       -0.2       ]\n",
      " [-0.5        -0.33333333 -0.25      ]\n",
      " [-1.         -0.5        -0.33333333]]\n"
     ]
    }
   ],
   "source": [
    "x=np.array([1,2,3,4])\n",
    "y=np.array([5,6,7])\n",
    "print(x,y)\n",
    "x=x.reshape((-1,1))\n",
    "print(x,y)\n",
    "diff=x-y\n",
    "print(diff)\n",
    "c_m = 1.0/diff\n",
    "print(c_m)\n"
   ]
  },
  {
   "cell_type": "code",
   "execution_count": 414,
   "metadata": {},
   "outputs": [
    {
     "name": "stdout",
     "output_type": "stream",
     "text": [
      "[1 1 1 2 2 2 3 3 3 4 4 4]\n",
      "[5 6 7]\n",
      "[5 6 7 5 6 7 5 6 7 5 6 7]\n",
      "[[-0.25       -0.2        -0.16666667]\n",
      " [-0.33333333 -0.25       -0.2       ]\n",
      " [-0.5        -0.33333333 -0.25      ]\n",
      " [-1.         -0.5        -0.33333333]]\n"
     ]
    }
   ],
   "source": [
    "lenx=len(x)\n",
    "leny=len(y)\n",
    "xm=np.repeat(x,leny)\n",
    "print(xm)\n",
    "print(y)\n",
    "ym=np.tile(y,lenx)\n",
    "print(ym)\n",
    "cm=(1.0/(xm-ym)).reshape([lenx,leny])\n",
    "print(cm)"
   ]
  },
  {
   "cell_type": "markdown",
   "metadata": {},
   "source": [
    "## Task 23\n",
    "- create an array of random `float` numbers and convert it to `int`"
   ]
  },
  {
   "cell_type": "code",
   "execution_count": 421,
   "metadata": {},
   "outputs": [
    {
     "name": "stdout",
     "output_type": "stream",
     "text": [
      "[4.51681953 3.81696722 4.35173765 1.35440413 1.31185367 1.15888055\n",
      " 1.87465893 3.20703372 4.39133766 2.6818755 ]\n",
      "[4 3 4 1 1 1 1 3 4 2]\n"
     ]
    }
   ],
   "source": [
    "fl=np.random.uniform(low=1.0, high=5, size=10)\n",
    "flToInt=fl.astype(int)\n",
    "print(fl)\n",
    "print(flToInt)"
   ]
  },
  {
   "cell_type": "markdown",
   "metadata": {},
   "source": [
    "## Task 24\n",
    "- create 1d array of numbers from 0 to 15\n",
    "- put each of them in random positions inside 4x4 matrix"
   ]
  },
  {
   "cell_type": "code",
   "execution_count": 440,
   "metadata": {},
   "outputs": [
    {
     "name": "stdout",
     "output_type": "stream",
     "text": [
      "[ 0  1  2  3  4  5  6  7  8  9 10 11 12 13 14 15]\n",
      "[14  8  0 15  3 11  6  9  2 10 13  7  1  5  4]\n"
     ]
    }
   ],
   "source": [
    "a1=np.arange(0,16)\n",
    "m24=np.array(np.random.choice(a1,15, replace=False))\n",
    "print(a1)\n",
    "print(m24)"
   ]
  },
  {
   "cell_type": "markdown",
   "metadata": {},
   "source": [
    "## Task 25\n",
    "- create random 100x50 matrix\n",
    "- deduct avarage of each row from correspondatn rows"
   ]
  },
  {
   "cell_type": "code",
   "execution_count": 454,
   "metadata": {},
   "outputs": [
    {
     "name": "stdout",
     "output_type": "stream",
     "text": [
      "[[28 95 62 ... 54  8 20]\n",
      " [48 50 32 ... 77 28 97]\n",
      " [66 76 56 ...  8 51  9]\n",
      " ...\n",
      " [44 17 71 ... 84 30 16]\n",
      " [59 88 32 ...  7 42 84]\n",
      " [82 81 39 ... 91 44 37]]\n",
      "[[-24.42  42.58   9.58 ...   1.58 -44.42 -32.42]\n",
      " [ -3.6   -1.6  -19.6  ...  25.4  -23.6   45.4 ]\n",
      " [ 23.3   33.3   13.3  ... -34.7    8.3  -33.7 ]\n",
      " ...\n",
      " [ -1.02 -28.02  25.98 ...  38.98 -15.02 -29.02]\n",
      " [ 10.08  39.08 -16.92 ... -41.92  -6.92  35.08]\n",
      " [ 32.7   31.7  -10.3  ...  41.7   -5.3  -12.3 ]]\n"
     ]
    }
   ],
   "source": [
    "m25=np.random.randint(1,100,size=(100,50))\n",
    "print(m25)\n",
    "avg_r=np.mean(m25, axis=1)[:, np.newaxis]\n",
    "m25_res = m25 - avg_r\n",
    "print(m25_res)"
   ]
  },
  {
   "cell_type": "markdown",
   "metadata": {},
   "source": [
    "## Task 26 \n",
    "- create random 10x10 matrix\n",
    "- extract diagonal elements and put them into 1d array"
   ]
  },
  {
   "cell_type": "code",
   "execution_count": 458,
   "metadata": {},
   "outputs": [
    {
     "name": "stdout",
     "output_type": "stream",
     "text": [
      "[[41 83 14 76 52 45 36 96 51 41]\n",
      " [91 69 99 10 15 86 13 83  5 16]\n",
      " [20 28 65 59 88 48 41 84 19 53]\n",
      " [ 0 43 22 77 35  0 47 13 74 45]\n",
      " [88 93 99 44 86 67 78 15 94 80]\n",
      " [ 6 94 17 42 79 29 20 70 53  8]\n",
      " [63 72 18 24 31  1 47 24 63 24]\n",
      " [33 94  0 21 84 60 33 36 89 78]\n",
      " [94 73 51 30 70 17 20 20 41 75]\n",
      " [58  2 23 15 80 33 81 33 69 40]]\n",
      "[41 69 65 77 86 29 47 36 41 40]\n"
     ]
    }
   ],
   "source": [
    "m26=np.random.randint(100,size=(10,10))\n",
    "m26_dg=np.diag(m26)\n",
    "print(m26)\n",
    "print(m26_dg)"
   ]
  },
  {
   "cell_type": "markdown",
   "metadata": {},
   "source": [
    "## Task 27\n",
    "- given a vector `[1, 2, 3, 4, 5]`\n",
    "- build a new vertor with three zeros between each element"
   ]
  },
  {
   "cell_type": "code",
   "execution_count": 531,
   "metadata": {},
   "outputs": [
    {
     "data": {
      "text/plain": [
       "array([1, 0, 2, 0, 3, 0, 4, 0, 5])"
      ]
     },
     "execution_count": 531,
     "metadata": {},
     "output_type": "execute_result"
    }
   ],
   "source": [
    "v27=np.array([1,2,3,4,5])\n",
    "z=np.array([0,0,0,0])\n",
    "res=np.empty( (v27.size + z.size,), dtype=v27.dtype )\n",
    "res[0::2]=v27\n",
    "res[1::2]=z\n",
    "res"
   ]
  }
 ],
 "metadata": {
  "kernelspec": {
   "display_name": "Python 3",
   "language": "python",
   "name": "python3"
  },
  "language_info": {
   "codemirror_mode": {
    "name": "ipython",
    "version": 3
   },
   "file_extension": ".py",
   "mimetype": "text/x-python",
   "name": "python",
   "nbconvert_exporter": "python",
   "pygments_lexer": "ipython3",
   "version": "3.7.3"
  }
 },
 "nbformat": 4,
 "nbformat_minor": 2
}
